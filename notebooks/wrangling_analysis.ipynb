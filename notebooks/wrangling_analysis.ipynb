{
 "cells": [
  {
   "cell_type": "code",
   "execution_count": 83,
   "metadata": {},
   "outputs": [],
   "source": [
    "import pandas as pd\n",
    "import json\n",
    "import requests"
   ]
  },
  {
   "cell_type": "code",
   "execution_count": 84,
   "metadata": {},
   "outputs": [],
   "source": [
    "df = pd.read_csv('../data/raw/full_data.csv')"
   ]
  },
  {
   "cell_type": "code",
   "execution_count": 85,
   "metadata": {},
   "outputs": [],
   "source": [
    "data = [df['country_code'], df['normalized_job_code'], df['rural']]\n",
    "headers = ['Country', 'Job Title', 'Rural']\n",
    "df_processed = pd.concat(data, axis=1, keys=headers)"
   ]
  },
  {
   "cell_type": "markdown",
   "metadata": {},
   "source": [
    "## Processing Data"
   ]
  },
  {
   "cell_type": "code",
   "execution_count": 86,
   "metadata": {},
   "outputs": [],
   "source": [
    "df_processed['Rural'] = df_processed['Rural'].str.capitalize()"
   ]
  },
  {
   "cell_type": "code",
   "execution_count": 87,
   "metadata": {},
   "outputs": [],
   "source": [
    "df_processed = df_processed.replace(['Countryside', 'Country'], 'Rural')\n",
    "df_processed = df_processed.replace(['City', 'Urban'], 'Non-rural')"
   ]
  },
  {
   "cell_type": "code",
   "execution_count": 88,
   "metadata": {},
   "outputs": [
    {
     "data": {
      "text/plain": [
       "array(['Rural', 'Non-rural'], dtype=object)"
      ]
     },
     "execution_count": 88,
     "metadata": {},
     "output_type": "execute_result"
    }
   ],
   "source": [
    "df_processed.Rural.unique()"
   ]
  },
  {
   "cell_type": "markdown",
   "metadata": {},
   "source": [
    "## Obtaining API data"
   ]
  },
  {
   "cell_type": "code",
   "execution_count": 89,
   "metadata": {},
   "outputs": [],
   "source": [
    "def obtain_API(job):\n",
    "    \"\"\"\n",
    "    Make a request to the API and receive the json where the job title is stored\n",
    "    \"\"\"\n",
    "    \n",
    "    response = requests.get(f'http://api.dataatwork.org/v1/jobs/{job}')\n",
    "    \n",
    "    results = response.json()\n",
    "    \n",
    "    if pd.isna(job):\n",
    "        return 'Not job found'\n",
    "    else:\n",
    "        return results"
   ]
  },
  {
   "cell_type": "code",
   "execution_count": 90,
   "metadata": {},
   "outputs": [],
   "source": [
    "df_processed['job_extracted'] = df_processed.head(13).apply(lambda x: obtain_API(x['Job Title']), axis=1)"
   ]
  },
  {
   "cell_type": "code",
   "execution_count": 91,
   "metadata": {},
   "outputs": [],
   "source": [
    "def acces_job(job):\n",
    "    \"\"\"\n",
    "    Get the job title stored in data obtained from the API\n",
    "    \"\"\"\n",
    "    \n",
    "    if 'title' in job:\n",
    "        return job['title']\n",
    "    else:\n",
    "        return job"
   ]
  },
  {
   "cell_type": "code",
   "execution_count": 92,
   "metadata": {},
   "outputs": [],
   "source": [
    "df_processed['Job Title'] = df_processed.head(13).apply(lambda x: acces_job(x.job_extracted), axis=1)"
   ]
  },
  {
   "cell_type": "code",
   "execution_count": 93,
   "metadata": {},
   "outputs": [],
   "source": [
    "df_API_collected = df_processed.drop(columns='job_extracted')"
   ]
  },
  {
   "cell_type": "markdown",
   "metadata": {},
   "source": [
    "## DATA ANALYSIS"
   ]
  },
  {
   "cell_type": "code",
   "execution_count": 94,
   "metadata": {},
   "outputs": [],
   "source": [
    "df = df_API_collected.groupby(['Country', 'Rural', 'Job Title'])['Job Title'].count().reset_index(name=\"Quantity\")"
   ]
  },
  {
   "cell_type": "code",
   "execution_count": 95,
   "metadata": {},
   "outputs": [
    {
     "data": {
      "text/html": [
       "<div>\n",
       "<style scoped>\n",
       "    .dataframe tbody tr th:only-of-type {\n",
       "        vertical-align: middle;\n",
       "    }\n",
       "\n",
       "    .dataframe tbody tr th {\n",
       "        vertical-align: top;\n",
       "    }\n",
       "\n",
       "    .dataframe thead th {\n",
       "        text-align: right;\n",
       "    }\n",
       "</style>\n",
       "<table border=\"1\" class=\"dataframe\">\n",
       "  <thead>\n",
       "    <tr style=\"text-align: right;\">\n",
       "      <th></th>\n",
       "      <th>Country</th>\n",
       "      <th>Rural</th>\n",
       "      <th>Job Title</th>\n",
       "      <th>Quantity</th>\n",
       "    </tr>\n",
       "  </thead>\n",
       "  <tbody>\n",
       "    <tr>\n",
       "      <th>0</th>\n",
       "      <td>AT</td>\n",
       "      <td>Non-rural</td>\n",
       "      <td>Automatic Data Processing Planner</td>\n",
       "      <td>1</td>\n",
       "    </tr>\n",
       "    <tr>\n",
       "      <th>1</th>\n",
       "      <td>AT</td>\n",
       "      <td>Non-rural</td>\n",
       "      <td>Crime Data Specialist</td>\n",
       "      <td>1</td>\n",
       "    </tr>\n",
       "    <tr>\n",
       "      <th>2</th>\n",
       "      <td>AT</td>\n",
       "      <td>Non-rural</td>\n",
       "      <td>Data Communications Software Consultant</td>\n",
       "      <td>1</td>\n",
       "    </tr>\n",
       "    <tr>\n",
       "      <th>3</th>\n",
       "      <td>AT</td>\n",
       "      <td>Non-rural</td>\n",
       "      <td>Database Architect</td>\n",
       "      <td>1</td>\n",
       "    </tr>\n",
       "    <tr>\n",
       "      <th>4</th>\n",
       "      <td>AT</td>\n",
       "      <td>Non-rural</td>\n",
       "      <td>Database Developer</td>\n",
       "      <td>1</td>\n",
       "    </tr>\n",
       "    <tr>\n",
       "      <th>5</th>\n",
       "      <td>AT</td>\n",
       "      <td>Non-rural</td>\n",
       "      <td>Geographic Information Systems Database Admini...</td>\n",
       "      <td>1</td>\n",
       "    </tr>\n",
       "    <tr>\n",
       "      <th>6</th>\n",
       "      <td>AT</td>\n",
       "      <td>Non-rural</td>\n",
       "      <td>Not job found</td>\n",
       "      <td>4</td>\n",
       "    </tr>\n",
       "    <tr>\n",
       "      <th>7</th>\n",
       "      <td>AT</td>\n",
       "      <td>Rural</td>\n",
       "      <td>Data Coordinator</td>\n",
       "      <td>1</td>\n",
       "    </tr>\n",
       "    <tr>\n",
       "      <th>8</th>\n",
       "      <td>AT</td>\n",
       "      <td>Rural</td>\n",
       "      <td>Data Entry Specialist</td>\n",
       "      <td>1</td>\n",
       "    </tr>\n",
       "    <tr>\n",
       "      <th>9</th>\n",
       "      <td>AT</td>\n",
       "      <td>Rural</td>\n",
       "      <td>Not job found</td>\n",
       "      <td>1</td>\n",
       "    </tr>\n",
       "  </tbody>\n",
       "</table>\n",
       "</div>"
      ],
      "text/plain": [
       "  Country      Rural                                          Job Title  \\\n",
       "0      AT  Non-rural                  Automatic Data Processing Planner   \n",
       "1      AT  Non-rural                              Crime Data Specialist   \n",
       "2      AT  Non-rural            Data Communications Software Consultant   \n",
       "3      AT  Non-rural                                 Database Architect   \n",
       "4      AT  Non-rural                                 Database Developer   \n",
       "5      AT  Non-rural  Geographic Information Systems Database Admini...   \n",
       "6      AT  Non-rural                                      Not job found   \n",
       "7      AT      Rural                                   Data Coordinator   \n",
       "8      AT      Rural                              Data Entry Specialist   \n",
       "9      AT      Rural                                      Not job found   \n",
       "\n",
       "   Quantity  \n",
       "0         1  \n",
       "1         1  \n",
       "2         1  \n",
       "3         1  \n",
       "4         1  \n",
       "5         1  \n",
       "6         4  \n",
       "7         1  \n",
       "8         1  \n",
       "9         1  "
      ]
     },
     "execution_count": 95,
     "metadata": {},
     "output_type": "execute_result"
    }
   ],
   "source": [
    "df"
   ]
  },
  {
   "cell_type": "code",
   "execution_count": 102,
   "metadata": {},
   "outputs": [],
   "source": [
    "def calc_percentage(quantity, dataframe_column):\n",
    "    percentage = quantity / dataframe_column.sum() * 100\n",
    "    return round(percentage, 1)"
   ]
  },
  {
   "cell_type": "code",
   "execution_count": 103,
   "metadata": {},
   "outputs": [],
   "source": [
    "def percentage(df):\n",
    "    \"\"\"\n",
    "    calculate the percentage of a job (rural or non-rural) in a country with respect to the total of all countries \n",
    "    \"\"\"\n",
    "    \n",
    "    df['Percentage'] = df.apply(lambda x: f'{calc_percentage(x.Quantity, df.Quantity)}%', axis=1)\n",
    "    \n",
    "    return df"
   ]
  },
  {
   "cell_type": "code",
   "execution_count": 104,
   "metadata": {},
   "outputs": [
    {
     "data": {
      "text/html": [
       "<div>\n",
       "<style scoped>\n",
       "    .dataframe tbody tr th:only-of-type {\n",
       "        vertical-align: middle;\n",
       "    }\n",
       "\n",
       "    .dataframe tbody tr th {\n",
       "        vertical-align: top;\n",
       "    }\n",
       "\n",
       "    .dataframe thead th {\n",
       "        text-align: right;\n",
       "    }\n",
       "</style>\n",
       "<table border=\"1\" class=\"dataframe\">\n",
       "  <thead>\n",
       "    <tr style=\"text-align: right;\">\n",
       "      <th></th>\n",
       "      <th>Country</th>\n",
       "      <th>Rural</th>\n",
       "      <th>Job Title</th>\n",
       "      <th>Quantity</th>\n",
       "      <th>Percentage</th>\n",
       "    </tr>\n",
       "  </thead>\n",
       "  <tbody>\n",
       "    <tr>\n",
       "      <th>0</th>\n",
       "      <td>AT</td>\n",
       "      <td>Non-rural</td>\n",
       "      <td>Automatic Data Processing Planner</td>\n",
       "      <td>1</td>\n",
       "      <td>7.7%</td>\n",
       "    </tr>\n",
       "    <tr>\n",
       "      <th>1</th>\n",
       "      <td>AT</td>\n",
       "      <td>Non-rural</td>\n",
       "      <td>Crime Data Specialist</td>\n",
       "      <td>1</td>\n",
       "      <td>7.7%</td>\n",
       "    </tr>\n",
       "    <tr>\n",
       "      <th>2</th>\n",
       "      <td>AT</td>\n",
       "      <td>Non-rural</td>\n",
       "      <td>Data Communications Software Consultant</td>\n",
       "      <td>1</td>\n",
       "      <td>7.7%</td>\n",
       "    </tr>\n",
       "    <tr>\n",
       "      <th>3</th>\n",
       "      <td>AT</td>\n",
       "      <td>Non-rural</td>\n",
       "      <td>Database Architect</td>\n",
       "      <td>1</td>\n",
       "      <td>7.7%</td>\n",
       "    </tr>\n",
       "    <tr>\n",
       "      <th>4</th>\n",
       "      <td>AT</td>\n",
       "      <td>Non-rural</td>\n",
       "      <td>Database Developer</td>\n",
       "      <td>1</td>\n",
       "      <td>7.7%</td>\n",
       "    </tr>\n",
       "    <tr>\n",
       "      <th>5</th>\n",
       "      <td>AT</td>\n",
       "      <td>Non-rural</td>\n",
       "      <td>Geographic Information Systems Database Admini...</td>\n",
       "      <td>1</td>\n",
       "      <td>7.7%</td>\n",
       "    </tr>\n",
       "    <tr>\n",
       "      <th>6</th>\n",
       "      <td>AT</td>\n",
       "      <td>Non-rural</td>\n",
       "      <td>Not job found</td>\n",
       "      <td>4</td>\n",
       "      <td>30.8%</td>\n",
       "    </tr>\n",
       "    <tr>\n",
       "      <th>7</th>\n",
       "      <td>AT</td>\n",
       "      <td>Rural</td>\n",
       "      <td>Data Coordinator</td>\n",
       "      <td>1</td>\n",
       "      <td>7.7%</td>\n",
       "    </tr>\n",
       "    <tr>\n",
       "      <th>8</th>\n",
       "      <td>AT</td>\n",
       "      <td>Rural</td>\n",
       "      <td>Data Entry Specialist</td>\n",
       "      <td>1</td>\n",
       "      <td>7.7%</td>\n",
       "    </tr>\n",
       "    <tr>\n",
       "      <th>9</th>\n",
       "      <td>AT</td>\n",
       "      <td>Rural</td>\n",
       "      <td>Not job found</td>\n",
       "      <td>1</td>\n",
       "      <td>7.7%</td>\n",
       "    </tr>\n",
       "  </tbody>\n",
       "</table>\n",
       "</div>"
      ],
      "text/plain": [
       "  Country      Rural                                          Job Title  \\\n",
       "0      AT  Non-rural                  Automatic Data Processing Planner   \n",
       "1      AT  Non-rural                              Crime Data Specialist   \n",
       "2      AT  Non-rural            Data Communications Software Consultant   \n",
       "3      AT  Non-rural                                 Database Architect   \n",
       "4      AT  Non-rural                                 Database Developer   \n",
       "5      AT  Non-rural  Geographic Information Systems Database Admini...   \n",
       "6      AT  Non-rural                                      Not job found   \n",
       "7      AT      Rural                                   Data Coordinator   \n",
       "8      AT      Rural                              Data Entry Specialist   \n",
       "9      AT      Rural                                      Not job found   \n",
       "\n",
       "   Quantity Percentage  \n",
       "0         1       7.7%  \n",
       "1         1       7.7%  \n",
       "2         1       7.7%  \n",
       "3         1       7.7%  \n",
       "4         1       7.7%  \n",
       "5         1       7.7%  \n",
       "6         4      30.8%  \n",
       "7         1       7.7%  \n",
       "8         1       7.7%  \n",
       "9         1       7.7%  "
      ]
     },
     "execution_count": 104,
     "metadata": {},
     "output_type": "execute_result"
    }
   ],
   "source": [
    "percentage(df)"
   ]
  },
  {
   "cell_type": "code",
   "execution_count": 115,
   "metadata": {},
   "outputs": [
    {
     "data": {
      "text/html": [
       "<div>\n",
       "<style scoped>\n",
       "    .dataframe tbody tr th:only-of-type {\n",
       "        vertical-align: middle;\n",
       "    }\n",
       "\n",
       "    .dataframe tbody tr th {\n",
       "        vertical-align: top;\n",
       "    }\n",
       "\n",
       "    .dataframe thead th {\n",
       "        text-align: right;\n",
       "    }\n",
       "</style>\n",
       "<table border=\"1\" class=\"dataframe\">\n",
       "  <thead>\n",
       "    <tr style=\"text-align: right;\">\n",
       "      <th></th>\n",
       "      <th>Country</th>\n",
       "      <th>Rural</th>\n",
       "      <th>Job Title</th>\n",
       "      <th>Quantity</th>\n",
       "      <th>Percentage</th>\n",
       "    </tr>\n",
       "  </thead>\n",
       "  <tbody>\n",
       "    <tr>\n",
       "      <th>0</th>\n",
       "      <td>AT</td>\n",
       "      <td>Non-rural</td>\n",
       "      <td>Automatic Data Processing Planner</td>\n",
       "      <td>1</td>\n",
       "      <td>20.0%</td>\n",
       "    </tr>\n",
       "    <tr>\n",
       "      <th>1</th>\n",
       "      <td>AT</td>\n",
       "      <td>Non-rural</td>\n",
       "      <td>Database Developer</td>\n",
       "      <td>1</td>\n",
       "      <td>20.0%</td>\n",
       "    </tr>\n",
       "    <tr>\n",
       "      <th>2</th>\n",
       "      <td>AT</td>\n",
       "      <td>Non-rural</td>\n",
       "      <td>Not job found</td>\n",
       "      <td>1</td>\n",
       "      <td>20.0%</td>\n",
       "    </tr>\n",
       "    <tr>\n",
       "      <th>3</th>\n",
       "      <td>AT</td>\n",
       "      <td>Rural</td>\n",
       "      <td>Data Coordinator</td>\n",
       "      <td>1</td>\n",
       "      <td>20.0%</td>\n",
       "    </tr>\n",
       "    <tr>\n",
       "      <th>4</th>\n",
       "      <td>AT</td>\n",
       "      <td>Rural</td>\n",
       "      <td>Not job found</td>\n",
       "      <td>1</td>\n",
       "      <td>20.0%</td>\n",
       "    </tr>\n",
       "  </tbody>\n",
       "</table>\n",
       "</div>"
      ],
      "text/plain": [
       "  Country      Rural                          Job Title  Quantity Percentage\n",
       "0      AT  Non-rural  Automatic Data Processing Planner         1      20.0%\n",
       "1      AT  Non-rural                 Database Developer         1      20.0%\n",
       "2      AT  Non-rural                      Not job found         1      20.0%\n",
       "3      AT      Rural                   Data Coordinator         1      20.0%\n",
       "4      AT      Rural                      Not job found         1      20.0%"
      ]
     },
     "execution_count": 115,
     "metadata": {},
     "output_type": "execute_result"
    }
   ],
   "source": [
    "data"
   ]
  },
  {
   "cell_type": "code",
   "execution_count": 109,
   "metadata": {},
   "outputs": [
    {
     "name": "stdin",
     "output_type": "stream",
     "text": [
      "Please introduce a country ('all' for complete data):  AT\n"
     ]
    }
   ],
   "source": [
    "data = pd.read_csv('../data/results/df_analysed.csv')\n",
    "    \n",
    "country = (input('Please introduce a country (\\'all\\' for complete data): '))"
   ]
  },
  {
   "cell_type": "code",
   "execution_count": 113,
   "metadata": {},
   "outputs": [
    {
     "data": {
      "text/plain": [
       "'AT'"
      ]
     },
     "execution_count": 113,
     "metadata": {},
     "output_type": "execute_result"
    }
   ],
   "source": [
    "country"
   ]
  },
  {
   "cell_type": "code",
   "execution_count": 117,
   "metadata": {},
   "outputs": [],
   "source": [
    "country_filter = data.loc[data['Country'] == country]"
   ]
  },
  {
   "cell_type": "code",
   "execution_count": 120,
   "metadata": {},
   "outputs": [
    {
     "data": {
      "text/html": [
       "<div>\n",
       "<style scoped>\n",
       "    .dataframe tbody tr th:only-of-type {\n",
       "        vertical-align: middle;\n",
       "    }\n",
       "\n",
       "    .dataframe tbody tr th {\n",
       "        vertical-align: top;\n",
       "    }\n",
       "\n",
       "    .dataframe thead th {\n",
       "        text-align: right;\n",
       "    }\n",
       "</style>\n",
       "<table border=\"1\" class=\"dataframe\">\n",
       "  <thead>\n",
       "    <tr style=\"text-align: right;\">\n",
       "      <th></th>\n",
       "      <th>Country</th>\n",
       "      <th>Rural</th>\n",
       "      <th>Job Title</th>\n",
       "      <th>Quantity</th>\n",
       "      <th>Percentage</th>\n",
       "    </tr>\n",
       "  </thead>\n",
       "  <tbody>\n",
       "    <tr>\n",
       "      <th>0</th>\n",
       "      <td>AT</td>\n",
       "      <td>Non-rural</td>\n",
       "      <td>Automatic Data Processing Planner</td>\n",
       "      <td>1</td>\n",
       "      <td>20.0%</td>\n",
       "    </tr>\n",
       "    <tr>\n",
       "      <th>1</th>\n",
       "      <td>AT</td>\n",
       "      <td>Non-rural</td>\n",
       "      <td>Database Developer</td>\n",
       "      <td>1</td>\n",
       "      <td>20.0%</td>\n",
       "    </tr>\n",
       "    <tr>\n",
       "      <th>2</th>\n",
       "      <td>AT</td>\n",
       "      <td>Non-rural</td>\n",
       "      <td>Not job found</td>\n",
       "      <td>1</td>\n",
       "      <td>20.0%</td>\n",
       "    </tr>\n",
       "    <tr>\n",
       "      <th>3</th>\n",
       "      <td>AT</td>\n",
       "      <td>Rural</td>\n",
       "      <td>Data Coordinator</td>\n",
       "      <td>1</td>\n",
       "      <td>20.0%</td>\n",
       "    </tr>\n",
       "    <tr>\n",
       "      <th>4</th>\n",
       "      <td>AT</td>\n",
       "      <td>Rural</td>\n",
       "      <td>Not job found</td>\n",
       "      <td>1</td>\n",
       "      <td>20.0%</td>\n",
       "    </tr>\n",
       "  </tbody>\n",
       "</table>\n",
       "</div>"
      ],
      "text/plain": [
       "  Country      Rural                          Job Title  Quantity Percentage\n",
       "0      AT  Non-rural  Automatic Data Processing Planner         1      20.0%\n",
       "1      AT  Non-rural                 Database Developer         1      20.0%\n",
       "2      AT  Non-rural                      Not job found         1      20.0%\n",
       "3      AT      Rural                   Data Coordinator         1      20.0%\n",
       "4      AT      Rural                      Not job found         1      20.0%"
      ]
     },
     "execution_count": 120,
     "metadata": {},
     "output_type": "execute_result"
    }
   ],
   "source": [
    "country_filter"
   ]
  },
  {
   "cell_type": "code",
   "execution_count": null,
   "metadata": {},
   "outputs": [],
   "source": []
  },
  {
   "cell_type": "code",
   "execution_count": null,
   "metadata": {},
   "outputs": [],
   "source": []
  }
 ],
 "metadata": {
  "kernelspec": {
   "display_name": "Python [conda env:ironhack_env]",
   "language": "python",
   "name": "conda-env-ironhack_env-py"
  },
  "language_info": {
   "codemirror_mode": {
    "name": "ipython",
    "version": 3
   },
   "file_extension": ".py",
   "mimetype": "text/x-python",
   "name": "python",
   "nbconvert_exporter": "python",
   "pygments_lexer": "ipython3",
   "version": "3.8.5"
  }
 },
 "nbformat": 4,
 "nbformat_minor": 4
}

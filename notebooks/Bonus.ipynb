{
 "cells": [
  {
   "cell_type": "code",
   "execution_count": 2,
   "metadata": {},
   "outputs": [],
   "source": [
    "import pandas as pd"
   ]
  },
  {
   "cell_type": "markdown",
   "metadata": {},
   "source": [
    "# Bonus 1"
   ]
  },
  {
   "cell_type": "code",
   "execution_count": 3,
   "metadata": {},
   "outputs": [],
   "source": [
    "df = pd.read_csv('../data/raw/full_data.csv')\n",
    "df2 = pd.read_csv('../data/processed/df_processed.csv')"
   ]
  },
  {
   "cell_type": "code",
   "execution_count": 4,
   "metadata": {},
   "outputs": [
    {
     "data": {
      "text/html": [
       "<div>\n",
       "<style scoped>\n",
       "    .dataframe tbody tr th:only-of-type {\n",
       "        vertical-align: middle;\n",
       "    }\n",
       "\n",
       "    .dataframe tbody tr th {\n",
       "        vertical-align: top;\n",
       "    }\n",
       "\n",
       "    .dataframe thead th {\n",
       "        text-align: right;\n",
       "    }\n",
       "</style>\n",
       "<table border=\"1\" class=\"dataframe\">\n",
       "  <thead>\n",
       "    <tr style=\"text-align: right;\">\n",
       "      <th></th>\n",
       "      <th>Country</th>\n",
       "      <th>Job Title</th>\n",
       "      <th>Rural</th>\n",
       "    </tr>\n",
       "  </thead>\n",
       "  <tbody>\n",
       "    <tr>\n",
       "      <th>0</th>\n",
       "      <td>Austria</td>\n",
       "      <td>Not job found</td>\n",
       "      <td>Rural</td>\n",
       "    </tr>\n",
       "    <tr>\n",
       "      <th>1</th>\n",
       "      <td>Austria</td>\n",
       "      <td>Automatic Data Processing Planner</td>\n",
       "      <td>Non-rural</td>\n",
       "    </tr>\n",
       "    <tr>\n",
       "      <th>2</th>\n",
       "      <td>Austria</td>\n",
       "      <td>Not job found</td>\n",
       "      <td>Non-rural</td>\n",
       "    </tr>\n",
       "    <tr>\n",
       "      <th>3</th>\n",
       "      <td>Austria</td>\n",
       "      <td>Data Coordinator</td>\n",
       "      <td>Rural</td>\n",
       "    </tr>\n",
       "    <tr>\n",
       "      <th>4</th>\n",
       "      <td>Austria</td>\n",
       "      <td>Database Developer</td>\n",
       "      <td>Non-rural</td>\n",
       "    </tr>\n",
       "    <tr>\n",
       "      <th>...</th>\n",
       "      <td>...</td>\n",
       "      <td>...</td>\n",
       "      <td>...</td>\n",
       "    </tr>\n",
       "    <tr>\n",
       "      <th>9644</th>\n",
       "      <td>Slovakia</td>\n",
       "      <td>Data Warehouse Developer</td>\n",
       "      <td>Non-rural</td>\n",
       "    </tr>\n",
       "    <tr>\n",
       "      <th>9645</th>\n",
       "      <td>Slovakia</td>\n",
       "      <td>Database Manager</td>\n",
       "      <td>Non-rural</td>\n",
       "    </tr>\n",
       "    <tr>\n",
       "      <th>9646</th>\n",
       "      <td>Slovakia</td>\n",
       "      <td>Not job found</td>\n",
       "      <td>Non-rural</td>\n",
       "    </tr>\n",
       "    <tr>\n",
       "      <th>9647</th>\n",
       "      <td>Slovakia</td>\n",
       "      <td>Data Officer</td>\n",
       "      <td>Non-rural</td>\n",
       "    </tr>\n",
       "    <tr>\n",
       "      <th>9648</th>\n",
       "      <td>Slovakia</td>\n",
       "      <td>Data Scientist</td>\n",
       "      <td>Non-rural</td>\n",
       "    </tr>\n",
       "  </tbody>\n",
       "</table>\n",
       "<p>9649 rows × 3 columns</p>\n",
       "</div>"
      ],
      "text/plain": [
       "       Country                          Job Title      Rural\n",
       "0      Austria                      Not job found      Rural\n",
       "1      Austria  Automatic Data Processing Planner  Non-rural\n",
       "2      Austria                      Not job found  Non-rural\n",
       "3      Austria                   Data Coordinator      Rural\n",
       "4      Austria                 Database Developer  Non-rural\n",
       "...        ...                                ...        ...\n",
       "9644  Slovakia           Data Warehouse Developer  Non-rural\n",
       "9645  Slovakia                   Database Manager  Non-rural\n",
       "9646  Slovakia                      Not job found  Non-rural\n",
       "9647  Slovakia                       Data Officer  Non-rural\n",
       "9648  Slovakia                     Data Scientist  Non-rural\n",
       "\n",
       "[9649 rows x 3 columns]"
      ]
     },
     "execution_count": 4,
     "metadata": {},
     "output_type": "execute_result"
    }
   ],
   "source": []
  },
  {
   "cell_type": "code",
   "execution_count": 151,
   "metadata": {},
   "outputs": [],
   "source": [
    "def bonus1(df):\n",
    "    df.rename(columns={'dem_education_level': 'Education Level',\n",
    "                   'question_bbi_2016wave4_basicincome_argumentsfor': 'Pro Arguments',\n",
    "                   'question_bbi_2016wave4_basicincome_argumentsagainst': 'Cons Arguments',\n",
    "                  'question_bbi_2016wave4_basicincome_vote': 'Position',\n",
    "                  'question_bbi_2016wave4_basicincome_effect': 'Effect',\n",
    "                  'question_bbi_2016wave4_basicincome_awareness': 'Awareness'}, inplace=True)\n",
    "    \n",
    "    def split(x):\n",
    "        return x.split('|')\n",
    "    \n",
    "    df['Pro Arguments'] = df.apply(lambda x: split(x['Pro Arguments']), axis=1)\n",
    "    \n",
    "    df['Cons Arguments'] = df.apply(lambda x: split(x['Cons Arguments']), axis=1)\n",
    "    \n",
    "    def ind_range(x):\n",
    "        if x == ['None of the above']:\n",
    "            return 0\n",
    "        else:\n",
    "            return len(x)\n",
    "        \n",
    "    df['Pro Arguments'] = df.apply(lambda x: ind_range(x['Pro Arguments']), axis=1)\n",
    "    \n",
    "    df['Cons Arguments'] = df.apply(lambda x: ind_range(x['Cons Arguments']), axis=1)\n",
    "    \n",
    "    def position(x):\n",
    "        if 'vote for' in x:\n",
    "            return 'In Favor'\n",
    "        elif 'vote against' in x:\n",
    "            return 'Against'\n",
    "        else:\n",
    "            return 'Impartial'\n",
    "        \n",
    "    df['Position'] = df.apply(lambda x: position(x['Position']), axis=1)\n",
    "    \n",
    "    table = df.groupby('Position')['Pro Arguments', 'Cons Arguments'].sum()\n",
    "    \n",
    "    table = table.rename(columns={'Pro Arguments':'Number of Pro Arguments', 'Cons Arguments':'Number of Cons Arguments'}).drop(index='Impartial')\n",
    "    \n",
    "    return table"
   ]
  },
  {
   "cell_type": "code",
   "execution_count": 152,
   "metadata": {},
   "outputs": [
    {
     "name": "stderr",
     "output_type": "stream",
     "text": [
      "<ipython-input-151-86f249329e3d>:36: FutureWarning: Indexing with multiple keys (implicitly converted to a tuple of keys) will be deprecated, use a list instead.\n",
      "  bonus1 = df.groupby('Position')['Pro Arguments', 'Cons Arguments'].sum()\n"
     ]
    },
    {
     "data": {
      "text/html": [
       "<div>\n",
       "<style scoped>\n",
       "    .dataframe tbody tr th:only-of-type {\n",
       "        vertical-align: middle;\n",
       "    }\n",
       "\n",
       "    .dataframe tbody tr th {\n",
       "        vertical-align: top;\n",
       "    }\n",
       "\n",
       "    .dataframe thead th {\n",
       "        text-align: right;\n",
       "    }\n",
       "</style>\n",
       "<table border=\"1\" class=\"dataframe\">\n",
       "  <thead>\n",
       "    <tr style=\"text-align: right;\">\n",
       "      <th></th>\n",
       "      <th>Number of Pro Arguments</th>\n",
       "      <th>Number of Cons Arguments</th>\n",
       "    </tr>\n",
       "    <tr>\n",
       "      <th>Position</th>\n",
       "      <th></th>\n",
       "      <th></th>\n",
       "    </tr>\n",
       "  </thead>\n",
       "  <tbody>\n",
       "    <tr>\n",
       "      <th>Against</th>\n",
       "      <td>2195</td>\n",
       "      <td>6558</td>\n",
       "    </tr>\n",
       "    <tr>\n",
       "      <th>In Favor</th>\n",
       "      <td>11753</td>\n",
       "      <td>10928</td>\n",
       "    </tr>\n",
       "  </tbody>\n",
       "</table>\n",
       "</div>"
      ],
      "text/plain": [
       "          Number of Pro Arguments  Number of Cons Arguments\n",
       "Position                                                   \n",
       "Against                      2195                      6558\n",
       "In Favor                    11753                     10928"
      ]
     },
     "execution_count": 152,
     "metadata": {},
     "output_type": "execute_result"
    }
   ],
   "source": [
    "bonus1(df)"
   ]
  },
  {
   "cell_type": "markdown",
   "metadata": {},
   "source": [
    "# Bonus 2"
   ]
  },
  {
   "cell_type": "code",
   "execution_count": 29,
   "metadata": {},
   "outputs": [],
   "source": [
    "def bonus2(df_raw, df_processed):\n",
    "    \n",
    "    df_raw.rename(columns={'dem_education_level': 'Education Level', 'normalized_job_code': 'Job Title'}, inplace=True)\n",
    "    df_raw['Job Title'] = df_processed['Job Title']\n",
    "    df_raw['Education Level'] = df_raw['Education Level'].replace('no', 'no education')\n",
    "\n",
    "    ed_list = list(df_raw['Education Level'].fillna('None').unique())\n",
    "    ed_list.remove('None')\n",
    "    new_order = [1, 2, 3, 0]\n",
    "    ed_list = [ed_list[i] for i in new_order]\n",
    "\n",
    "    filtered_dfs = [df_raw[df_raw['Education Level'] == level] for level in ed_list]\n",
    "\n",
    "    dfs_skills = [i['Job Title'].value_counts().head(11) for i in filtered_dfs]\n",
    "\n",
    "    final_df = [i.drop(index='Not job found') for i in dfs_skills]\n",
    "\n",
    "    table = pd.DataFrame(\n",
    "        {'Education Level': ed_list, 'Top 10 Skills': [list(final_df[i].index) for i in range(len(final_df))]},\n",
    "        index=None)\n",
    "\n",
    "    table['Top 10 Skills'] = table.apply(lambda x: ', '.join(x['Top 10 Skills']), axis=1)\n",
    "\n",
    "    return table"
   ]
  },
  {
   "cell_type": "code",
   "execution_count": 30,
   "metadata": {},
   "outputs": [],
   "source": [
    "l = bonus2(df, df2)"
   ]
  },
  {
   "cell_type": "code",
   "execution_count": 31,
   "metadata": {},
   "outputs": [
    {
     "data": {
      "text/html": [
       "<div>\n",
       "<style scoped>\n",
       "    .dataframe tbody tr th:only-of-type {\n",
       "        vertical-align: middle;\n",
       "    }\n",
       "\n",
       "    .dataframe tbody tr th {\n",
       "        vertical-align: top;\n",
       "    }\n",
       "\n",
       "    .dataframe thead th {\n",
       "        text-align: right;\n",
       "    }\n",
       "</style>\n",
       "<table border=\"1\" class=\"dataframe\">\n",
       "  <thead>\n",
       "    <tr style=\"text-align: right;\">\n",
       "      <th></th>\n",
       "      <th>Education Level</th>\n",
       "      <th>Top 10 Skills</th>\n",
       "    </tr>\n",
       "  </thead>\n",
       "  <tbody>\n",
       "    <tr>\n",
       "      <th>0</th>\n",
       "      <td>high</td>\n",
       "      <td>Data Administrator, Data Officer, Data Warehou...</td>\n",
       "    </tr>\n",
       "    <tr>\n",
       "      <th>1</th>\n",
       "      <td>medium</td>\n",
       "      <td>Data Storage Specialist, Geographic Informatio...</td>\n",
       "    </tr>\n",
       "    <tr>\n",
       "      <th>2</th>\n",
       "      <td>low</td>\n",
       "      <td>Data Processing Systems Analyst, Data Communic...</td>\n",
       "    </tr>\n",
       "    <tr>\n",
       "      <th>3</th>\n",
       "      <td>no education</td>\n",
       "      <td>Database Administration Associate, Data Wareho...</td>\n",
       "    </tr>\n",
       "  </tbody>\n",
       "</table>\n",
       "</div>"
      ],
      "text/plain": [
       "  Education Level                                      Top 10 Skills\n",
       "0            high  Data Administrator, Data Officer, Data Warehou...\n",
       "1          medium  Data Storage Specialist, Geographic Informatio...\n",
       "2             low  Data Processing Systems Analyst, Data Communic...\n",
       "3    no education  Database Administration Associate, Data Wareho..."
      ]
     },
     "execution_count": 31,
     "metadata": {},
     "output_type": "execute_result"
    }
   ],
   "source": [
    "l"
   ]
  },
  {
   "cell_type": "code",
   "execution_count": 10,
   "metadata": {},
   "outputs": [],
   "source": []
  },
  {
   "cell_type": "code",
   "execution_count": null,
   "metadata": {},
   "outputs": [],
   "source": []
  },
  {
   "cell_type": "code",
   "execution_count": null,
   "metadata": {},
   "outputs": [],
   "source": []
  }
 ],
 "metadata": {
  "kernelspec": {
   "display_name": "Python [conda env:ironhack_env]",
   "language": "python",
   "name": "conda-env-ironhack_env-py"
  },
  "language_info": {
   "codemirror_mode": {
    "name": "ipython",
    "version": 3
   },
   "file_extension": ".py",
   "mimetype": "text/x-python",
   "name": "python",
   "nbconvert_exporter": "python",
   "pygments_lexer": "ipython3",
   "version": "3.8.5"
  }
 },
 "nbformat": 4,
 "nbformat_minor": 4
}

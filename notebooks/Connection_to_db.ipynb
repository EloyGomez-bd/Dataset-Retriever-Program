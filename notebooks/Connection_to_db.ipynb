{
 "cells": [
  {
   "cell_type": "code",
   "execution_count": 2,
   "metadata": {},
   "outputs": [],
   "source": [
    "from sqlalchemy import create_engine\n",
    "import pandas as pd"
   ]
  },
  {
   "cell_type": "code",
   "execution_count": 3,
   "metadata": {},
   "outputs": [],
   "source": [
    "engine = create_engine('sqlite:///../data/raw_data_project_m1.db')"
   ]
  },
  {
   "cell_type": "code",
   "execution_count": 9,
   "metadata": {},
   "outputs": [],
   "source": [
    "query1 = \"\"\" SELECT * FROM career_info \"\"\""
   ]
  },
  {
   "cell_type": "code",
   "execution_count": 10,
   "metadata": {},
   "outputs": [],
   "source": [
    "SQL_Query = pd.read_sql_query(query1, engine)"
   ]
  },
  {
   "cell_type": "code",
   "execution_count": 11,
   "metadata": {},
   "outputs": [],
   "source": [
    "df = pd.DataFrame(SQL_Query)"
   ]
  },
  {
   "cell_type": "code",
   "execution_count": 12,
   "metadata": {},
   "outputs": [
    {
     "data": {
      "text/html": [
       "<div>\n",
       "<style scoped>\n",
       "    .dataframe tbody tr th:only-of-type {\n",
       "        vertical-align: middle;\n",
       "    }\n",
       "\n",
       "    .dataframe tbody tr th {\n",
       "        vertical-align: top;\n",
       "    }\n",
       "\n",
       "    .dataframe thead th {\n",
       "        text-align: right;\n",
       "    }\n",
       "</style>\n",
       "<table border=\"1\" class=\"dataframe\">\n",
       "  <thead>\n",
       "    <tr style=\"text-align: right;\">\n",
       "      <th></th>\n",
       "      <th>uuid</th>\n",
       "      <th>dem_education_level</th>\n",
       "      <th>dem_full_time_job</th>\n",
       "      <th>normalized_job_code</th>\n",
       "    </tr>\n",
       "  </thead>\n",
       "  <tbody>\n",
       "    <tr>\n",
       "      <th>0</th>\n",
       "      <td>f6e7ee00-deac-0133-4de8-0a81e8b09a82</td>\n",
       "      <td>no</td>\n",
       "      <td>no</td>\n",
       "      <td>None</td>\n",
       "    </tr>\n",
       "    <tr>\n",
       "      <th>1</th>\n",
       "      <td>54f0f1c0-dda1-0133-a559-0a81e8b09a82</td>\n",
       "      <td>high</td>\n",
       "      <td>yes</td>\n",
       "      <td>861a9b9151e11362eb3c77ca914172d0</td>\n",
       "    </tr>\n",
       "    <tr>\n",
       "      <th>2</th>\n",
       "      <td>83127080-da3d-0133-c74f-0a81e8b09a82</td>\n",
       "      <td>None</td>\n",
       "      <td>no</td>\n",
       "      <td>None</td>\n",
       "    </tr>\n",
       "    <tr>\n",
       "      <th>3</th>\n",
       "      <td>15626d40-db13-0133-ea5c-0a81e8b09a82</td>\n",
       "      <td>high</td>\n",
       "      <td>yes</td>\n",
       "      <td>049a3f3a2b5f85cb2971ba77ad66e10c</td>\n",
       "    </tr>\n",
       "    <tr>\n",
       "      <th>4</th>\n",
       "      <td>24954a70-db98-0133-4a64-0a81e8b09a82</td>\n",
       "      <td>high</td>\n",
       "      <td>yes</td>\n",
       "      <td>f4b2fb1aa40f661488e2782b6d57ad2f</td>\n",
       "    </tr>\n",
       "    <tr>\n",
       "      <th>...</th>\n",
       "      <td>...</td>\n",
       "      <td>...</td>\n",
       "      <td>...</td>\n",
       "      <td>...</td>\n",
       "    </tr>\n",
       "    <tr>\n",
       "      <th>9644</th>\n",
       "      <td>7d1ac020-dcb4-0133-817a-0a81e8b09a82</td>\n",
       "      <td>high</td>\n",
       "      <td>yes</td>\n",
       "      <td>847165cfda6b1dc82ae22b967da8af2f</td>\n",
       "    </tr>\n",
       "    <tr>\n",
       "      <th>9645</th>\n",
       "      <td>39f989f0-db52-0133-8482-0a81e8b09a82</td>\n",
       "      <td>high</td>\n",
       "      <td>yes</td>\n",
       "      <td>a4d5b8b38f9513825d0d94a981ebe962</td>\n",
       "    </tr>\n",
       "    <tr>\n",
       "      <th>9646</th>\n",
       "      <td>70ce4a90-d965-0133-f5e4-0a81e8b09a82</td>\n",
       "      <td>low</td>\n",
       "      <td>no</td>\n",
       "      <td>None</td>\n",
       "    </tr>\n",
       "    <tr>\n",
       "      <th>9647</th>\n",
       "      <td>2896e440-db3c-0133-5b67-0a81e8b09a82</td>\n",
       "      <td>low</td>\n",
       "      <td>yes</td>\n",
       "      <td>775190277a849cba701b306a7b374c0a</td>\n",
       "    </tr>\n",
       "    <tr>\n",
       "      <th>9648</th>\n",
       "      <td>06217ba0-dd56-0133-edda-0a81e8b09a82</td>\n",
       "      <td>high</td>\n",
       "      <td>yes</td>\n",
       "      <td>8a7a3f1bce0958ae9f090683e5a925b7</td>\n",
       "    </tr>\n",
       "  </tbody>\n",
       "</table>\n",
       "<p>9649 rows × 4 columns</p>\n",
       "</div>"
      ],
      "text/plain": [
       "                                      uuid dem_education_level  \\\n",
       "0     f6e7ee00-deac-0133-4de8-0a81e8b09a82                  no   \n",
       "1     54f0f1c0-dda1-0133-a559-0a81e8b09a82                high   \n",
       "2     83127080-da3d-0133-c74f-0a81e8b09a82                None   \n",
       "3     15626d40-db13-0133-ea5c-0a81e8b09a82                high   \n",
       "4     24954a70-db98-0133-4a64-0a81e8b09a82                high   \n",
       "...                                    ...                 ...   \n",
       "9644  7d1ac020-dcb4-0133-817a-0a81e8b09a82                high   \n",
       "9645  39f989f0-db52-0133-8482-0a81e8b09a82                high   \n",
       "9646  70ce4a90-d965-0133-f5e4-0a81e8b09a82                 low   \n",
       "9647  2896e440-db3c-0133-5b67-0a81e8b09a82                 low   \n",
       "9648  06217ba0-dd56-0133-edda-0a81e8b09a82                high   \n",
       "\n",
       "     dem_full_time_job               normalized_job_code  \n",
       "0                   no                              None  \n",
       "1                  yes  861a9b9151e11362eb3c77ca914172d0  \n",
       "2                   no                              None  \n",
       "3                  yes  049a3f3a2b5f85cb2971ba77ad66e10c  \n",
       "4                  yes  f4b2fb1aa40f661488e2782b6d57ad2f  \n",
       "...                ...                               ...  \n",
       "9644               yes  847165cfda6b1dc82ae22b967da8af2f  \n",
       "9645               yes  a4d5b8b38f9513825d0d94a981ebe962  \n",
       "9646                no                              None  \n",
       "9647               yes  775190277a849cba701b306a7b374c0a  \n",
       "9648               yes  8a7a3f1bce0958ae9f090683e5a925b7  \n",
       "\n",
       "[9649 rows x 4 columns]"
      ]
     },
     "execution_count": 12,
     "metadata": {},
     "output_type": "execute_result"
    }
   ],
   "source": [
    "df"
   ]
  },
  {
   "cell_type": "code",
   "execution_count": null,
   "metadata": {},
   "outputs": [],
   "source": []
  }
 ],
 "metadata": {
  "kernelspec": {
   "display_name": "Python [conda env:ironhack_env]",
   "language": "python",
   "name": "conda-env-ironhack_env-py"
  },
  "language_info": {
   "codemirror_mode": {
    "name": "ipython",
    "version": 3
   },
   "file_extension": ".py",
   "mimetype": "text/x-python",
   "name": "python",
   "nbconvert_exporter": "python",
   "pygments_lexer": "ipython3",
   "version": "3.8.5"
  }
 },
 "nbformat": 4,
 "nbformat_minor": 4
}
